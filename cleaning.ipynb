{
 "cells": [
  {
   "cell_type": "code",
   "execution_count": 26,
   "metadata": {},
   "outputs": [
    {
     "data": {
      "text/html": [
       "<div>\n",
       "<style scoped>\n",
       "    .dataframe tbody tr th:only-of-type {\n",
       "        vertical-align: middle;\n",
       "    }\n",
       "\n",
       "    .dataframe tbody tr th {\n",
       "        vertical-align: top;\n",
       "    }\n",
       "\n",
       "    .dataframe thead th {\n",
       "        text-align: right;\n",
       "    }\n",
       "</style>\n",
       "<table border=\"1\" class=\"dataframe\">\n",
       "  <thead>\n",
       "    <tr style=\"text-align: right;\">\n",
       "      <th></th>\n",
       "      <th>auhtor_ID</th>\n",
       "      <th>post</th>\n",
       "      <th>political_leaning</th>\n",
       "    </tr>\n",
       "  </thead>\n",
       "  <tbody>\n",
       "    <tr>\n",
       "      <th>0</th>\n",
       "      <td>t2_7ramzeng</td>\n",
       "      <td>You can \"buy\" the show and stream it through t...</td>\n",
       "      <td>right</td>\n",
       "    </tr>\n",
       "    <tr>\n",
       "      <th>1</th>\n",
       "      <td>t2_7ramzeng</td>\n",
       "      <td>me want to play Q*bert Holy shit, based Alex J...</td>\n",
       "      <td>right</td>\n",
       "    </tr>\n",
       "    <tr>\n",
       "      <th>2</th>\n",
       "      <td>t2_7ramzeng</td>\n",
       "      <td>Shouldn't rely on any external services or per...</td>\n",
       "      <td>right</td>\n",
       "    </tr>\n",
       "    <tr>\n",
       "      <th>3</th>\n",
       "      <td>t2_7ramzeng</td>\n",
       "      <td>PR to a specific person. Usually that just mea...</td>\n",
       "      <td>right</td>\n",
       "    </tr>\n",
       "    <tr>\n",
       "      <th>4</th>\n",
       "      <td>t2_7ramzeng</td>\n",
       "      <td>This article's intention is clear that they wa...</td>\n",
       "      <td>right</td>\n",
       "    </tr>\n",
       "  </tbody>\n",
       "</table>\n",
       "</div>"
      ],
      "text/plain": [
       "     auhtor_ID                                               post  \\\n",
       "0  t2_7ramzeng  You can \"buy\" the show and stream it through t...   \n",
       "1  t2_7ramzeng  me want to play Q*bert Holy shit, based Alex J...   \n",
       "2  t2_7ramzeng  Shouldn't rely on any external services or per...   \n",
       "3  t2_7ramzeng  PR to a specific person. Usually that just mea...   \n",
       "4  t2_7ramzeng  This article's intention is clear that they wa...   \n",
       "\n",
       "  political_leaning  \n",
       "0             right  \n",
       "1             right  \n",
       "2             right  \n",
       "3             right  \n",
       "4             right  "
      ]
     },
     "execution_count": 26,
     "metadata": {},
     "output_type": "execute_result"
    }
   ],
   "source": [
    "import pandas as pd\n",
    "import json\n",
    "import csv\n",
    "import numpy as np\n",
    "from tqdm import tqdm\n",
    "import string\n",
    "import re\n",
    "import nltk\n",
    "from nltk.corpus import stopwords\n",
    "#only run following if you have not yet downloaded the stopwords\n",
    "# nltk.download('stopwords') \n",
    "#nltk.download('punkt')\n",
    "# df = pd.read_csv('data/political_leaning.csv')\n",
    "# df.head()"
   ]
  },
  {
   "cell_type": "code",
   "execution_count": 27,
   "metadata": {},
   "outputs": [
    {
     "name": "stdout",
     "output_type": "stream",
     "text": [
      "17454\n",
      "14576\n",
      "25201\n"
     ]
    }
   ],
   "source": [
    "# print(df['political_leaning'].value_counts()['right'])\n",
    "# print(df['political_leaning'].value_counts()['left'])\n",
    "# print(df['political_leaning'].value_counts()['center'])\n"
   ]
  },
  {
   "cell_type": "code",
   "execution_count": 28,
   "metadata": {},
   "outputs": [],
   "source": [
    "# def preprocess(text):\n",
    "#     text = text.lower()\n",
    "\n",
    "#     text  = re.sub(r'\\d+', '', text)\n",
    "#     text = re.sub(r'[^\\w\\s]',\"\", text)\n",
    "\n",
    "#     tokens = nltk.word_tokenize(text)\n",
    "\n",
    "#     return tokens"
   ]
  },
  {
   "cell_type": "code",
   "execution_count": 29,
   "metadata": {},
   "outputs": [],
   "source": [
    "# def remove_stopwords (tokens):\n",
    "#     stop_words = set(stopwords.words('english'))\n",
    "#     filtered_tokens = [word for word in tokens if word not in stop_words]\n",
    "#     return filtered_tokens"
   ]
  },
  {
   "cell_type": "code",
   "execution_count": 30,
   "metadata": {},
   "outputs": [],
   "source": [
    "# def lemmatization(tokens):\n",
    "#     lemmatizer = nltk.WordNetLemmatizer()\n",
    "#     lemmatized = [lemmatizer.lemmatize(token) for token in tokens]\n",
    "#     return lemmatized"
   ]
  },
  {
   "cell_type": "code",
   "execution_count": 31,
   "metadata": {},
   "outputs": [],
   "source": [
    "# def clean_text(text):\n",
    "#     tokens = preprocess(text)\n",
    "#     filtered_tokens = remove_stopwords(tokens)\n",
    "#     lemmatizer = lemmatization(filtered_tokens)\n",
    "#     clean = \" \".join(lemmatizer)\n",
    "#     return clean\n",
    "\n"
   ]
  },
  {
   "cell_type": "code",
   "execution_count": 32,
   "metadata": {},
   "outputs": [
    {
     "data": {
      "text/html": [
       "<div>\n",
       "<style scoped>\n",
       "    .dataframe tbody tr th:only-of-type {\n",
       "        vertical-align: middle;\n",
       "    }\n",
       "\n",
       "    .dataframe tbody tr th {\n",
       "        vertical-align: top;\n",
       "    }\n",
       "\n",
       "    .dataframe thead th {\n",
       "        text-align: right;\n",
       "    }\n",
       "</style>\n",
       "<table border=\"1\" class=\"dataframe\">\n",
       "  <thead>\n",
       "    <tr style=\"text-align: right;\">\n",
       "      <th></th>\n",
       "      <th>auhtor_ID</th>\n",
       "      <th>post</th>\n",
       "      <th>political_leaning</th>\n",
       "    </tr>\n",
       "  </thead>\n",
       "  <tbody>\n",
       "    <tr>\n",
       "      <th>0</th>\n",
       "      <td>t2_7ramzeng</td>\n",
       "      <td>You can \"buy\" the show and stream it through t...</td>\n",
       "      <td>right</td>\n",
       "    </tr>\n",
       "    <tr>\n",
       "      <th>1</th>\n",
       "      <td>t2_7ramzeng</td>\n",
       "      <td>me want to play Q*bert Holy shit, based Alex J...</td>\n",
       "      <td>right</td>\n",
       "    </tr>\n",
       "    <tr>\n",
       "      <th>2</th>\n",
       "      <td>t2_7ramzeng</td>\n",
       "      <td>Shouldn't rely on any external services or per...</td>\n",
       "      <td>right</td>\n",
       "    </tr>\n",
       "    <tr>\n",
       "      <th>3</th>\n",
       "      <td>t2_7ramzeng</td>\n",
       "      <td>PR to a specific person. Usually that just mea...</td>\n",
       "      <td>right</td>\n",
       "    </tr>\n",
       "    <tr>\n",
       "      <th>4</th>\n",
       "      <td>t2_7ramzeng</td>\n",
       "      <td>This article's intention is clear that they wa...</td>\n",
       "      <td>right</td>\n",
       "    </tr>\n",
       "  </tbody>\n",
       "</table>\n",
       "</div>"
      ],
      "text/plain": [
       "     auhtor_ID                                               post  \\\n",
       "0  t2_7ramzeng  You can \"buy\" the show and stream it through t...   \n",
       "1  t2_7ramzeng  me want to play Q*bert Holy shit, based Alex J...   \n",
       "2  t2_7ramzeng  Shouldn't rely on any external services or per...   \n",
       "3  t2_7ramzeng  PR to a specific person. Usually that just mea...   \n",
       "4  t2_7ramzeng  This article's intention is clear that they wa...   \n",
       "\n",
       "  political_leaning  \n",
       "0             right  \n",
       "1             right  \n",
       "2             right  \n",
       "3             right  \n",
       "4             right  "
      ]
     },
     "execution_count": 32,
     "metadata": {},
     "output_type": "execute_result"
    }
   ],
   "source": [
    "# df.head()"
   ]
  },
  {
   "cell_type": "code",
   "execution_count": 33,
   "metadata": {},
   "outputs": [
    {
     "name": "stderr",
     "output_type": "stream",
     "text": [
      "100%|██████████| 57231/57231 [00:00<00:00, 797404.30it/s]\n"
     ]
    }
   ],
   "source": [
    "# df['new'] = tqdm(df['post'].apply(clean_text))\n"
   ]
  },
  {
   "cell_type": "code",
   "execution_count": 34,
   "metadata": {},
   "outputs": [],
   "source": [
    "# df.head()\n",
    "# tqdm.pandas()"
   ]
  },
  {
   "cell_type": "code",
   "execution_count": 35,
   "metadata": {},
   "outputs": [],
   "source": [
    "# csv_data = pd.read_csv('output.csv')\n",
    "# word_set = set(csv_data['Word'].values)\n"
   ]
  },
  {
   "cell_type": "code",
   "execution_count": 36,
   "metadata": {},
   "outputs": [
    {
     "name": "stderr",
     "output_type": "stream",
     "text": [
      "100%|██████████| 57231/57231 [00:19<00:00, 2923.74it/s]\n"
     ]
    }
   ],
   "source": [
    "# df['new_column'] = df['new'].progress_apply(lambda x: sum([1 for word in x.split() if word in word_set]))\n",
    "\n"
   ]
  },
  {
   "cell_type": "code",
   "execution_count": 38,
   "metadata": {},
   "outputs": [
    {
     "data": {
      "text/html": [
       "<div>\n",
       "<style scoped>\n",
       "    .dataframe tbody tr th:only-of-type {\n",
       "        vertical-align: middle;\n",
       "    }\n",
       "\n",
       "    .dataframe tbody tr th {\n",
       "        vertical-align: top;\n",
       "    }\n",
       "\n",
       "    .dataframe thead th {\n",
       "        text-align: right;\n",
       "    }\n",
       "</style>\n",
       "<table border=\"1\" class=\"dataframe\">\n",
       "  <thead>\n",
       "    <tr style=\"text-align: right;\">\n",
       "      <th></th>\n",
       "      <th>auhtor_ID</th>\n",
       "      <th>post</th>\n",
       "      <th>political_leaning</th>\n",
       "      <th>new</th>\n",
       "      <th>new_column</th>\n",
       "    </tr>\n",
       "  </thead>\n",
       "  <tbody>\n",
       "    <tr>\n",
       "      <th>0</th>\n",
       "      <td>t2_7ramzeng</td>\n",
       "      <td>You can \"buy\" the show and stream it through t...</td>\n",
       "      <td>right</td>\n",
       "      <td>buy show stream including lethal weapon url ep...</td>\n",
       "      <td>4</td>\n",
       "    </tr>\n",
       "    <tr>\n",
       "      <th>1</th>\n",
       "      <td>t2_7ramzeng</td>\n",
       "      <td>me want to play Q*bert Holy shit, based Alex J...</td>\n",
       "      <td>right</td>\n",
       "      <td>want play qbert holy shit based alex jones bro...</td>\n",
       "      <td>2</td>\n",
       "    </tr>\n",
       "    <tr>\n",
       "      <th>2</th>\n",
       "      <td>t2_7ramzeng</td>\n",
       "      <td>Shouldn't rely on any external services or per...</td>\n",
       "      <td>right</td>\n",
       "      <td>shouldnt rely external service persistent data...</td>\n",
       "      <td>3</td>\n",
       "    </tr>\n",
       "    <tr>\n",
       "      <th>3</th>\n",
       "      <td>t2_7ramzeng</td>\n",
       "      <td>PR to a specific person. Usually that just mea...</td>\n",
       "      <td>right</td>\n",
       "      <td>pr specific person usually mean roundrobin app...</td>\n",
       "      <td>5</td>\n",
       "    </tr>\n",
       "    <tr>\n",
       "      <th>4</th>\n",
       "      <td>t2_7ramzeng</td>\n",
       "      <td>This article's intention is clear that they wa...</td>\n",
       "      <td>right</td>\n",
       "      <td>article intention clear want imply causal rela...</td>\n",
       "      <td>1</td>\n",
       "    </tr>\n",
       "  </tbody>\n",
       "</table>\n",
       "</div>"
      ],
      "text/plain": [
       "     auhtor_ID                                               post  \\\n",
       "0  t2_7ramzeng  You can \"buy\" the show and stream it through t...   \n",
       "1  t2_7ramzeng  me want to play Q*bert Holy shit, based Alex J...   \n",
       "2  t2_7ramzeng  Shouldn't rely on any external services or per...   \n",
       "3  t2_7ramzeng  PR to a specific person. Usually that just mea...   \n",
       "4  t2_7ramzeng  This article's intention is clear that they wa...   \n",
       "\n",
       "  political_leaning                                                new  \\\n",
       "0             right  buy show stream including lethal weapon url ep...   \n",
       "1             right  want play qbert holy shit based alex jones bro...   \n",
       "2             right  shouldnt rely external service persistent data...   \n",
       "3             right  pr specific person usually mean roundrobin app...   \n",
       "4             right  article intention clear want imply causal rela...   \n",
       "\n",
       "   new_column  \n",
       "0           4  \n",
       "1           2  \n",
       "2           3  \n",
       "3           5  \n",
       "4           1  "
      ]
     },
     "execution_count": 38,
     "metadata": {},
     "output_type": "execute_result"
    }
   ],
   "source": [
    "#import cProfile\n",
    "#cProfile.run(\"df['new_column'] = df['new'].apply(lambda x: sum([1 for word in x.split() if word in word_set]))\")\n",
    "\n",
    "# df.head()\n"
   ]
  },
  {
   "cell_type": "code",
   "execution_count": 41,
   "metadata": {},
   "outputs": [
    {
     "data": {
      "text/html": [
       "<div>\n",
       "<style scoped>\n",
       "    .dataframe tbody tr th:only-of-type {\n",
       "        vertical-align: middle;\n",
       "    }\n",
       "\n",
       "    .dataframe tbody tr th {\n",
       "        vertical-align: top;\n",
       "    }\n",
       "\n",
       "    .dataframe thead th {\n",
       "        text-align: right;\n",
       "    }\n",
       "</style>\n",
       "<table border=\"1\" class=\"dataframe\">\n",
       "  <thead>\n",
       "    <tr style=\"text-align: right;\">\n",
       "      <th></th>\n",
       "      <th>username</th>\n",
       "      <th>post</th>\n",
       "      <th>political_leaning</th>\n",
       "      <th>cleaned_post</th>\n",
       "      <th>amount_of_cursewords</th>\n",
       "    </tr>\n",
       "  </thead>\n",
       "  <tbody>\n",
       "    <tr>\n",
       "      <th>0</th>\n",
       "      <td>t2_7ramzeng</td>\n",
       "      <td>You can \"buy\" the show and stream it through t...</td>\n",
       "      <td>right</td>\n",
       "      <td>buy show stream including lethal weapon url ep...</td>\n",
       "      <td>4</td>\n",
       "    </tr>\n",
       "    <tr>\n",
       "      <th>1</th>\n",
       "      <td>t2_7ramzeng</td>\n",
       "      <td>me want to play Q*bert Holy shit, based Alex J...</td>\n",
       "      <td>right</td>\n",
       "      <td>want play qbert holy shit based alex jones bro...</td>\n",
       "      <td>2</td>\n",
       "    </tr>\n",
       "    <tr>\n",
       "      <th>2</th>\n",
       "      <td>t2_7ramzeng</td>\n",
       "      <td>Shouldn't rely on any external services or per...</td>\n",
       "      <td>right</td>\n",
       "      <td>shouldnt rely external service persistent data...</td>\n",
       "      <td>3</td>\n",
       "    </tr>\n",
       "    <tr>\n",
       "      <th>3</th>\n",
       "      <td>t2_7ramzeng</td>\n",
       "      <td>PR to a specific person. Usually that just mea...</td>\n",
       "      <td>right</td>\n",
       "      <td>pr specific person usually mean roundrobin app...</td>\n",
       "      <td>5</td>\n",
       "    </tr>\n",
       "    <tr>\n",
       "      <th>4</th>\n",
       "      <td>t2_7ramzeng</td>\n",
       "      <td>This article's intention is clear that they wa...</td>\n",
       "      <td>right</td>\n",
       "      <td>article intention clear want imply causal rela...</td>\n",
       "      <td>1</td>\n",
       "    </tr>\n",
       "  </tbody>\n",
       "</table>\n",
       "</div>"
      ],
      "text/plain": [
       "      username                                               post  \\\n",
       "0  t2_7ramzeng  You can \"buy\" the show and stream it through t...   \n",
       "1  t2_7ramzeng  me want to play Q*bert Holy shit, based Alex J...   \n",
       "2  t2_7ramzeng  Shouldn't rely on any external services or per...   \n",
       "3  t2_7ramzeng  PR to a specific person. Usually that just mea...   \n",
       "4  t2_7ramzeng  This article's intention is clear that they wa...   \n",
       "\n",
       "  political_leaning                                       cleaned_post  \\\n",
       "0             right  buy show stream including lethal weapon url ep...   \n",
       "1             right  want play qbert holy shit based alex jones bro...   \n",
       "2             right  shouldnt rely external service persistent data...   \n",
       "3             right  pr specific person usually mean roundrobin app...   \n",
       "4             right  article intention clear want imply causal rela...   \n",
       "\n",
       "   amount_of_cursewords  \n",
       "0                     4  \n",
       "1                     2  \n",
       "2                     3  \n",
       "3                     5  \n",
       "4                     1  "
      ]
     },
     "execution_count": 41,
     "metadata": {},
     "output_type": "execute_result"
    }
   ],
   "source": [
    "# df = df.rename(columns={'new': 'cleaned_post', 'new_column': 'amount_of_cursewords'})\n",
    "\n",
    "# df = df.rename(columns={'auhtor_ID': 'username'})\n",
    "# df.head()"
   ]
  },
  {
   "cell_type": "code",
   "execution_count": 43,
   "metadata": {},
   "outputs": [
    {
     "data": {
      "text/html": [
       "<div>\n",
       "<style scoped>\n",
       "    .dataframe tbody tr th:only-of-type {\n",
       "        vertical-align: middle;\n",
       "    }\n",
       "\n",
       "    .dataframe tbody tr th {\n",
       "        vertical-align: top;\n",
       "    }\n",
       "\n",
       "    .dataframe thead th {\n",
       "        text-align: right;\n",
       "    }\n",
       "</style>\n",
       "<table border=\"1\" class=\"dataframe\">\n",
       "  <thead>\n",
       "    <tr style=\"text-align: right;\">\n",
       "      <th></th>\n",
       "      <th>username</th>\n",
       "      <th>political_leaning</th>\n",
       "      <th>cleaned_post</th>\n",
       "      <th>amount_of_cursewords</th>\n",
       "    </tr>\n",
       "  </thead>\n",
       "  <tbody>\n",
       "    <tr>\n",
       "      <th>0</th>\n",
       "      <td>t2_7ramzeng</td>\n",
       "      <td>right</td>\n",
       "      <td>buy show stream including lethal weapon url ep...</td>\n",
       "      <td>4</td>\n",
       "    </tr>\n",
       "    <tr>\n",
       "      <th>1</th>\n",
       "      <td>t2_7ramzeng</td>\n",
       "      <td>right</td>\n",
       "      <td>want play qbert holy shit based alex jones bro...</td>\n",
       "      <td>2</td>\n",
       "    </tr>\n",
       "    <tr>\n",
       "      <th>2</th>\n",
       "      <td>t2_7ramzeng</td>\n",
       "      <td>right</td>\n",
       "      <td>shouldnt rely external service persistent data...</td>\n",
       "      <td>3</td>\n",
       "    </tr>\n",
       "    <tr>\n",
       "      <th>3</th>\n",
       "      <td>t2_7ramzeng</td>\n",
       "      <td>right</td>\n",
       "      <td>pr specific person usually mean roundrobin app...</td>\n",
       "      <td>5</td>\n",
       "    </tr>\n",
       "    <tr>\n",
       "      <th>4</th>\n",
       "      <td>t2_7ramzeng</td>\n",
       "      <td>right</td>\n",
       "      <td>article intention clear want imply causal rela...</td>\n",
       "      <td>1</td>\n",
       "    </tr>\n",
       "    <tr>\n",
       "      <th>...</th>\n",
       "      <td>...</td>\n",
       "      <td>...</td>\n",
       "      <td>...</td>\n",
       "      <td>...</td>\n",
       "    </tr>\n",
       "    <tr>\n",
       "      <th>57226</th>\n",
       "      <td>t2_4ngvl16j</td>\n",
       "      <td>center</td>\n",
       "      <td>good one thats odd remember may closer may clo...</td>\n",
       "      <td>5</td>\n",
       "    </tr>\n",
       "    <tr>\n",
       "      <th>57227</th>\n",
       "      <td>t2_4ngvl16j</td>\n",
       "      <td>center</td>\n",
       "      <td>boring shit fucking world history doesnt repea...</td>\n",
       "      <td>11</td>\n",
       "    </tr>\n",
       "    <tr>\n",
       "      <th>57228</th>\n",
       "      <td>t2_4ngvl16j</td>\n",
       "      <td>center</td>\n",
       "      <td>see contradiction gtor seriously brain damaged...</td>\n",
       "      <td>14</td>\n",
       "    </tr>\n",
       "    <tr>\n",
       "      <th>57229</th>\n",
       "      <td>t2_4ngvl16j</td>\n",
       "      <td>center</td>\n",
       "      <td>created incommensurate worldview im sure castr...</td>\n",
       "      <td>14</td>\n",
       "    </tr>\n",
       "    <tr>\n",
       "      <th>57230</th>\n",
       "      <td>t2_4ngvl16j</td>\n",
       "      <td>center</td>\n",
       "      <td>cursing thanks confirming havent paid attentio...</td>\n",
       "      <td>17</td>\n",
       "    </tr>\n",
       "  </tbody>\n",
       "</table>\n",
       "<p>57231 rows × 4 columns</p>\n",
       "</div>"
      ],
      "text/plain": [
       "          username political_leaning  \\\n",
       "0      t2_7ramzeng             right   \n",
       "1      t2_7ramzeng             right   \n",
       "2      t2_7ramzeng             right   \n",
       "3      t2_7ramzeng             right   \n",
       "4      t2_7ramzeng             right   \n",
       "...            ...               ...   \n",
       "57226  t2_4ngvl16j            center   \n",
       "57227  t2_4ngvl16j            center   \n",
       "57228  t2_4ngvl16j            center   \n",
       "57229  t2_4ngvl16j            center   \n",
       "57230  t2_4ngvl16j            center   \n",
       "\n",
       "                                            cleaned_post  amount_of_cursewords  \n",
       "0      buy show stream including lethal weapon url ep...                     4  \n",
       "1      want play qbert holy shit based alex jones bro...                     2  \n",
       "2      shouldnt rely external service persistent data...                     3  \n",
       "3      pr specific person usually mean roundrobin app...                     5  \n",
       "4      article intention clear want imply causal rela...                     1  \n",
       "...                                                  ...                   ...  \n",
       "57226  good one thats odd remember may closer may clo...                     5  \n",
       "57227  boring shit fucking world history doesnt repea...                    11  \n",
       "57228  see contradiction gtor seriously brain damaged...                    14  \n",
       "57229  created incommensurate worldview im sure castr...                    14  \n",
       "57230  cursing thanks confirming havent paid attentio...                    17  \n",
       "\n",
       "[57231 rows x 4 columns]"
      ]
     },
     "execution_count": 43,
     "metadata": {},
     "output_type": "execute_result"
    }
   ],
   "source": [
    "# df.drop('post', axis=1)"
   ]
  },
  {
   "cell_type": "code",
   "execution_count": 44,
   "metadata": {},
   "outputs": [],
   "source": [
    "# df.to_csv(\"cleaned_data.csv\")"
   ]
  },
  {
   "cell_type": "code",
   "execution_count": 46,
   "metadata": {},
   "outputs": [
    {
     "name": "stdout",
     "output_type": "stream",
     "text": [
      "username\n",
      "t2_sldqd7t     1683\n",
      "t2_4vpin        692\n",
      "t2_fhhbtfe      571\n",
      "t2_3mzbl19v     454\n",
      "t2_1l4ajkzp     415\n",
      "               ... \n",
      "t2_2xk2brnw       1\n",
      "t2_ixa6e          1\n",
      "t2_7enf3xu        1\n",
      "t2_pttku          1\n",
      "t2_4ty3i7dg       1\n",
      "Name: count, Length: 2178, dtype: int64\n"
     ]
    },
    {
     "name": "stderr",
     "output_type": "stream",
     "text": [
      "C:\\Users\\20202329\\AppData\\Local\\Temp\\ipykernel_17796\\3731384437.py:1: FutureWarning: pandas.value_counts is deprecated and will be removed in a future version. Use pd.Series(obj).value_counts() instead.\n",
      "  s = pd.value_counts(df.username)\n"
     ]
    }
   ],
   "source": [
    "# s = pd.value_counts(df.username)\n",
    "# print(s)"
   ]
  }
 ],
 "metadata": {
  "kernelspec": {
   "display_name": "Python 3",
   "language": "python",
   "name": "python3"
  },
  "language_info": {
   "codemirror_mode": {
    "name": "ipython",
    "version": 3
   },
   "file_extension": ".py",
   "mimetype": "text/x-python",
   "name": "python",
   "nbconvert_exporter": "python",
   "pygments_lexer": "ipython3",
   "version": "3.11.7"
  }
 },
 "nbformat": 4,
 "nbformat_minor": 2
}
