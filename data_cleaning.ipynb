{
 "cells": [
  {
   "cell_type": "markdown",
   "metadata": {},
   "source": [
    "# Import libraries"
   ]
  },
  {
   "cell_type": "code",
   "execution_count": 6,
   "metadata": {},
   "outputs": [],
   "source": [
    "# RUN this cell if you run this code for the first time\n",
    "# !pip install -r requirements.txt\n",
    "# only run following if you have not yet downloaded the stopwords\n",
    "# nltk.download('stopwords') \n",
    "# nltk.download('punkt')\n",
    "# nltk.download('wordnet')"
   ]
  },
  {
   "cell_type": "code",
   "execution_count": 7,
   "metadata": {},
   "outputs": [],
   "source": [
    "import pandas as pd\n",
    "import numpy as np\n",
    "from tqdm import tqdm\n",
    "import re\n",
    "import nltk\n",
    "from nltk.corpus import stopwords\n",
    "from tqdm.notebook import tqdm"
   ]
  },
  {
   "cell_type": "markdown",
   "metadata": {},
   "source": [
    "# Read in the dataframes"
   ]
  },
  {
   "cell_type": "code",
   "execution_count": 8,
   "metadata": {},
   "outputs": [],
   "source": [
    "df_swearwords = pd.read_csv(\"data/output.csv\")\n",
    "df_political_leaning = pd.read_csv(\"data/political_leaning.csv\")"
   ]
  },
  {
   "cell_type": "markdown",
   "metadata": {},
   "source": [
    "# Data Cleaning"
   ]
  },
  {
   "cell_type": "code",
   "execution_count": 9,
   "metadata": {},
   "outputs": [],
   "source": [
    "def preprocess(text):\n",
    "    text = text.lower()\n",
    "\n",
    "    text  = re.sub(r'\\d+', '', text)\n",
    "    text = re.sub(r'[^\\w\\s]',\"\", text)\n",
    "\n",
    "    tokens = nltk.word_tokenize(text)\n",
    "\n",
    "    return tokens\n",
    "\n",
    "def remove_stopwords (tokens):\n",
    "    stop_words = set(stopwords.words('english'))\n",
    "    filtered_tokens = [word for word in tokens if word not in stop_words]\n",
    "    return filtered_tokens\n",
    "\n",
    "def lemmatization(tokens):\n",
    "    lemmatizer = nltk.WordNetLemmatizer()\n",
    "    lemmatized = [lemmatizer.lemmatize(token) for token in tokens]\n",
    "    return lemmatized\n",
    "\n",
    "def clean_text(text):\n",
    "    tokens = preprocess(text)\n",
    "    filtered_tokens = remove_stopwords(tokens)\n",
    "    lemmatizer = lemmatization(filtered_tokens)\n",
    "    clean = \" \".join(lemmatizer)\n",
    "    return clean"
   ]
  },
  {
   "cell_type": "code",
   "execution_count": 10,
   "metadata": {},
   "outputs": [
    {
     "data": {
      "application/vnd.jupyter.widget-view+json": {
       "model_id": "166689cf934540a58df2072f2187ba57",
       "version_major": 2,
       "version_minor": 0
      },
      "text/plain": [
       "  0%|          | 0/57231 [00:00<?, ?it/s]"
      ]
     },
     "metadata": {},
     "output_type": "display_data"
    }
   ],
   "source": [
    "# Apply the cleaning function to the dataframe\n",
    "df_political_leaning['new'] = tqdm(df_political_leaning['post'].apply(clean_text))"
   ]
  },
  {
   "cell_type": "code",
   "execution_count": 11,
   "metadata": {},
   "outputs": [],
   "source": [
    "# Assume df_political_leaning is your DataFrame and 'text_column' is the column you want to check\n",
    "df_political_leaning['new_column'] = df_political_leaning['new'].apply(lambda x: sum([1 for word in x.split() if word in df_swearwords['Word'].values]))\n",
    "df_political_leaning = df_political_leaning.rename(columns={'new': 'cleaned_post', 'new_column': 'amount_of_cursewords'})\n",
    "df_political_leaning = df_political_leaning.rename(columns={'auhtor_ID': 'username'})\n",
    "df_political_leaning.head()"
   ]
  },
  {
   "cell_type": "code",
   "execution_count": null,
   "metadata": {},
   "outputs": [],
   "source": [
    "# encode political leaning as a number in 'political_leaning_id'where left is -1, center is 0, and right is 1\n",
    "df_political_leaning['political_leaning_id'] = df_political_leaning['political_leaning'].apply(lambda x: -1 if x == 'left' else 0 if x == 'center' else 1)"
   ]
  },
  {
   "cell_type": "code",
   "execution_count": null,
   "metadata": {},
   "outputs": [],
   "source": [
    "df_political_leaning.to_csv(\"cleaned_data.csv\")"
   ]
  }
 ],
 "metadata": {
  "kernelspec": {
   "display_name": "Python 3",
   "language": "python",
   "name": "python3"
  },
  "language_info": {
   "codemirror_mode": {
    "name": "ipython",
    "version": 3
   },
   "file_extension": ".py",
   "mimetype": "text/x-python",
   "name": "python",
   "nbconvert_exporter": "python",
   "pygments_lexer": "ipython3",
   "version": "3.11.7"
  }
 },
 "nbformat": 4,
 "nbformat_minor": 2
}
