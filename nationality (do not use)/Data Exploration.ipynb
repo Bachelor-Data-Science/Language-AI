{
 "cells": [
  {
   "cell_type": "code",
   "execution_count": 14,
   "metadata": {},
   "outputs": [],
   "source": [
    "# Data Exploration\n",
    "import pandas as pd\n",
    "df_output = pd.read_csv(r\"D:/OneDrive - TU Eindhoven/Year 5/Quartile 2/Language & AI/Group Assignment/output.csv\")\n",
    "df_clean = pd.read_csv(r\"D:/OneDrive - TU Eindhoven/Year 5/Quartile 2/Language & AI/Group Assignment/cleaned_data.csv\")\n",
    "df_nationality = pd.read_csv(r\"D:/OneDrive - TU Eindhoven/Year 5/Quartile 2/Language & AI/Group Assignment/nationality.csv\")"
   ]
  },
  {
   "cell_type": "code",
   "execution_count": 8,
   "metadata": {},
   "outputs": [
    {
     "data": {
      "text/html": [
       "<div>\n",
       "<style scoped>\n",
       "    .dataframe tbody tr th:only-of-type {\n",
       "        vertical-align: middle;\n",
       "    }\n",
       "\n",
       "    .dataframe tbody tr th {\n",
       "        vertical-align: top;\n",
       "    }\n",
       "\n",
       "    .dataframe thead th {\n",
       "        text-align: right;\n",
       "    }\n",
       "</style>\n",
       "<table border=\"1\" class=\"dataframe\">\n",
       "  <thead>\n",
       "    <tr style=\"text-align: right;\">\n",
       "      <th></th>\n",
       "      <th>Language</th>\n",
       "      <th>Index</th>\n",
       "      <th>Word</th>\n",
       "    </tr>\n",
       "  </thead>\n",
       "  <tbody>\n",
       "    <tr>\n",
       "      <th>0</th>\n",
       "      <td>be</td>\n",
       "      <td>0</td>\n",
       "      <td>аборт</td>\n",
       "    </tr>\n",
       "    <tr>\n",
       "      <th>1</th>\n",
       "      <td>be</td>\n",
       "      <td>1</td>\n",
       "      <td>анальны</td>\n",
       "    </tr>\n",
       "    <tr>\n",
       "      <th>2</th>\n",
       "      <td>be</td>\n",
       "      <td>2</td>\n",
       "      <td>анус</td>\n",
       "    </tr>\n",
       "    <tr>\n",
       "      <th>3</th>\n",
       "      <td>be</td>\n",
       "      <td>3</td>\n",
       "      <td>задніца</td>\n",
       "    </tr>\n",
       "    <tr>\n",
       "      <th>4</th>\n",
       "      <td>be</td>\n",
       "      <td>4</td>\n",
       "      <td>асёл прыдурак</td>\n",
       "    </tr>\n",
       "  </tbody>\n",
       "</table>\n",
       "</div>"
      ],
      "text/plain": [
       "  Language  Index           Word\n",
       "0       be      0          аборт\n",
       "1       be      1        анальны\n",
       "2       be      2           анус\n",
       "3       be      3        задніца\n",
       "4       be      4  асёл прыдурак"
      ]
     },
     "execution_count": 8,
     "metadata": {},
     "output_type": "execute_result"
    }
   ],
   "source": [
    "df_output.head()"
   ]
  },
  {
   "cell_type": "code",
   "execution_count": 9,
   "metadata": {},
   "outputs": [
    {
     "data": {
      "text/html": [
       "<div>\n",
       "<style scoped>\n",
       "    .dataframe tbody tr th:only-of-type {\n",
       "        vertical-align: middle;\n",
       "    }\n",
       "\n",
       "    .dataframe tbody tr th {\n",
       "        vertical-align: top;\n",
       "    }\n",
       "\n",
       "    .dataframe thead th {\n",
       "        text-align: right;\n",
       "    }\n",
       "</style>\n",
       "<table border=\"1\" class=\"dataframe\">\n",
       "  <thead>\n",
       "    <tr style=\"text-align: right;\">\n",
       "      <th></th>\n",
       "      <th>Unnamed: 0</th>\n",
       "      <th>username</th>\n",
       "      <th>post</th>\n",
       "      <th>political_leaning</th>\n",
       "      <th>cleaned_post</th>\n",
       "      <th>amount_of_cursewords</th>\n",
       "    </tr>\n",
       "  </thead>\n",
       "  <tbody>\n",
       "    <tr>\n",
       "      <th>0</th>\n",
       "      <td>0</td>\n",
       "      <td>t2_7ramzeng</td>\n",
       "      <td>You can \"buy\" the show and stream it through t...</td>\n",
       "      <td>right</td>\n",
       "      <td>buy show stream including lethal weapon url ep...</td>\n",
       "      <td>4</td>\n",
       "    </tr>\n",
       "    <tr>\n",
       "      <th>1</th>\n",
       "      <td>1</td>\n",
       "      <td>t2_7ramzeng</td>\n",
       "      <td>me want to play Q*bert Holy shit, based Alex J...</td>\n",
       "      <td>right</td>\n",
       "      <td>want play qbert holy shit based alex jones bro...</td>\n",
       "      <td>2</td>\n",
       "    </tr>\n",
       "    <tr>\n",
       "      <th>2</th>\n",
       "      <td>2</td>\n",
       "      <td>t2_7ramzeng</td>\n",
       "      <td>Shouldn't rely on any external services or per...</td>\n",
       "      <td>right</td>\n",
       "      <td>shouldnt rely external service persistent data...</td>\n",
       "      <td>3</td>\n",
       "    </tr>\n",
       "    <tr>\n",
       "      <th>3</th>\n",
       "      <td>3</td>\n",
       "      <td>t2_7ramzeng</td>\n",
       "      <td>PR to a specific person. Usually that just mea...</td>\n",
       "      <td>right</td>\n",
       "      <td>pr specific person usually mean roundrobin app...</td>\n",
       "      <td>5</td>\n",
       "    </tr>\n",
       "    <tr>\n",
       "      <th>4</th>\n",
       "      <td>4</td>\n",
       "      <td>t2_7ramzeng</td>\n",
       "      <td>This article's intention is clear that they wa...</td>\n",
       "      <td>right</td>\n",
       "      <td>article intention clear want imply causal rela...</td>\n",
       "      <td>1</td>\n",
       "    </tr>\n",
       "  </tbody>\n",
       "</table>\n",
       "</div>"
      ],
      "text/plain": [
       "   Unnamed: 0     username                                               post   \n",
       "0           0  t2_7ramzeng  You can \"buy\" the show and stream it through t...  \\\n",
       "1           1  t2_7ramzeng  me want to play Q*bert Holy shit, based Alex J...   \n",
       "2           2  t2_7ramzeng  Shouldn't rely on any external services or per...   \n",
       "3           3  t2_7ramzeng  PR to a specific person. Usually that just mea...   \n",
       "4           4  t2_7ramzeng  This article's intention is clear that they wa...   \n",
       "\n",
       "  political_leaning                                       cleaned_post   \n",
       "0             right  buy show stream including lethal weapon url ep...  \\\n",
       "1             right  want play qbert holy shit based alex jones bro...   \n",
       "2             right  shouldnt rely external service persistent data...   \n",
       "3             right  pr specific person usually mean roundrobin app...   \n",
       "4             right  article intention clear want imply causal rela...   \n",
       "\n",
       "   amount_of_cursewords  \n",
       "0                     4  \n",
       "1                     2  \n",
       "2                     3  \n",
       "3                     5  \n",
       "4                     1  "
      ]
     },
     "execution_count": 9,
     "metadata": {},
     "output_type": "execute_result"
    }
   ],
   "source": [
    "df_clean.head()"
   ]
  },
  {
   "cell_type": "code",
   "execution_count": 20,
   "metadata": {},
   "outputs": [
    {
     "data": {
      "text/html": [
       "<div>\n",
       "<style scoped>\n",
       "    .dataframe tbody tr th:only-of-type {\n",
       "        vertical-align: middle;\n",
       "    }\n",
       "\n",
       "    .dataframe tbody tr th {\n",
       "        vertical-align: top;\n",
       "    }\n",
       "\n",
       "    .dataframe thead th {\n",
       "        text-align: right;\n",
       "    }\n",
       "</style>\n",
       "<table border=\"1\" class=\"dataframe\">\n",
       "  <thead>\n",
       "    <tr style=\"text-align: right;\">\n",
       "      <th></th>\n",
       "      <th>auhtor_ID</th>\n",
       "      <th>post</th>\n",
       "      <th>nationality</th>\n",
       "    </tr>\n",
       "  </thead>\n",
       "  <tbody>\n",
       "    <tr>\n",
       "      <th>0</th>\n",
       "      <td>t2_10uons</td>\n",
       "      <td>It isn't, it's just for show. It isn't legally...</td>\n",
       "      <td>Finland</td>\n",
       "    </tr>\n",
       "    <tr>\n",
       "      <th>1</th>\n",
       "      <td>t2_10uons</td>\n",
       "      <td>games won to games played. Games played is cal...</td>\n",
       "      <td>Finland</td>\n",
       "    </tr>\n",
       "    <tr>\n",
       "      <th>2</th>\n",
       "      <td>t2_10uons</td>\n",
       "      <td>So with that logic USA is a very shitty place ...</td>\n",
       "      <td>Finland</td>\n",
       "    </tr>\n",
       "    <tr>\n",
       "      <th>3</th>\n",
       "      <td>t2_10uons</td>\n",
       "      <td>are referring to It does add up a lot when EA,...</td>\n",
       "      <td>Finland</td>\n",
       "    </tr>\n",
       "    <tr>\n",
       "      <th>4</th>\n",
       "      <td>t2_10uons</td>\n",
       "      <td>get another role than support Lel people here ...</td>\n",
       "      <td>Finland</td>\n",
       "    </tr>\n",
       "  </tbody>\n",
       "</table>\n",
       "</div>"
      ],
      "text/plain": [
       "   auhtor_ID                                               post nationality\n",
       "0  t2_10uons  It isn't, it's just for show. It isn't legally...     Finland\n",
       "1  t2_10uons  games won to games played. Games played is cal...     Finland\n",
       "2  t2_10uons  So with that logic USA is a very shitty place ...     Finland\n",
       "3  t2_10uons  are referring to It does add up a lot when EA,...     Finland\n",
       "4  t2_10uons  get another role than support Lel people here ...     Finland"
      ]
     },
     "execution_count": 20,
     "metadata": {},
     "output_type": "execute_result"
    }
   ],
   "source": [
    "df_nationality.head()"
   ]
  },
  {
   "cell_type": "code",
   "execution_count": 19,
   "metadata": {},
   "outputs": [
    {
     "data": {
      "text/plain": [
       "56"
      ]
     },
     "execution_count": 19,
     "metadata": {},
     "output_type": "execute_result"
    }
   ],
   "source": [
    "df_nationality[\"nationality\"].nunique()"
   ]
  },
  {
   "cell_type": "code",
   "execution_count": 23,
   "metadata": {},
   "outputs": [
    {
     "data": {
      "text/html": [
       "<div>\n",
       "<style scoped>\n",
       "    .dataframe tbody tr th:only-of-type {\n",
       "        vertical-align: middle;\n",
       "    }\n",
       "\n",
       "    .dataframe tbody tr th {\n",
       "        vertical-align: top;\n",
       "    }\n",
       "\n",
       "    .dataframe thead th {\n",
       "        text-align: right;\n",
       "    }\n",
       "</style>\n",
       "<table border=\"1\" class=\"dataframe\">\n",
       "  <thead>\n",
       "    <tr style=\"text-align: right;\">\n",
       "      <th></th>\n",
       "      <th>auhtor_ID</th>\n",
       "      <th>post</th>\n",
       "      <th>nationality</th>\n",
       "      <th>id</th>\n",
       "    </tr>\n",
       "  </thead>\n",
       "  <tbody>\n",
       "    <tr>\n",
       "      <th>0</th>\n",
       "      <td>t2_10uons</td>\n",
       "      <td>It isn't, it's just for show. It isn't legally...</td>\n",
       "      <td>Finland</td>\n",
       "      <td>17</td>\n",
       "    </tr>\n",
       "    <tr>\n",
       "      <th>1</th>\n",
       "      <td>t2_10uons</td>\n",
       "      <td>games won to games played. Games played is cal...</td>\n",
       "      <td>Finland</td>\n",
       "      <td>17</td>\n",
       "    </tr>\n",
       "    <tr>\n",
       "      <th>2</th>\n",
       "      <td>t2_10uons</td>\n",
       "      <td>So with that logic USA is a very shitty place ...</td>\n",
       "      <td>Finland</td>\n",
       "      <td>17</td>\n",
       "    </tr>\n",
       "    <tr>\n",
       "      <th>3</th>\n",
       "      <td>t2_10uons</td>\n",
       "      <td>are referring to It does add up a lot when EA,...</td>\n",
       "      <td>Finland</td>\n",
       "      <td>17</td>\n",
       "    </tr>\n",
       "    <tr>\n",
       "      <th>4</th>\n",
       "      <td>t2_10uons</td>\n",
       "      <td>get another role than support Lel people here ...</td>\n",
       "      <td>Finland</td>\n",
       "      <td>17</td>\n",
       "    </tr>\n",
       "    <tr>\n",
       "      <th>...</th>\n",
       "      <td>...</td>\n",
       "      <td>...</td>\n",
       "      <td>...</td>\n",
       "      <td>...</td>\n",
       "    </tr>\n",
       "    <tr>\n",
       "      <th>82611</th>\n",
       "      <td>t2_57ogt82f</td>\n",
       "      <td>and Sergeant York. WWI didn't lend it'self to ...</td>\n",
       "      <td>United Kingdom</td>\n",
       "      <td>55</td>\n",
       "    </tr>\n",
       "    <tr>\n",
       "      <th>82612</th>\n",
       "      <td>t2_57ogt82f</td>\n",
       "      <td>a position where a person can get short term f...</td>\n",
       "      <td>United Kingdom</td>\n",
       "      <td>55</td>\n",
       "    </tr>\n",
       "    <tr>\n",
       "      <th>82613</th>\n",
       "      <td>t2_57ogt82f</td>\n",
       "      <td>you have to read the label. Some are just as h...</td>\n",
       "      <td>United Kingdom</td>\n",
       "      <td>55</td>\n",
       "    </tr>\n",
       "    <tr>\n",
       "      <th>82614</th>\n",
       "      <td>t2_57ogt82f</td>\n",
       "      <td>as traitors. Some suggesting it was treason. T...</td>\n",
       "      <td>United Kingdom</td>\n",
       "      <td>55</td>\n",
       "    </tr>\n",
       "    <tr>\n",
       "      <th>82615</th>\n",
       "      <td>t2_57ogt82f</td>\n",
       "      <td>for the drug trade staffed by benefit claimant...</td>\n",
       "      <td>United Kingdom</td>\n",
       "      <td>55</td>\n",
       "    </tr>\n",
       "  </tbody>\n",
       "</table>\n",
       "<p>82616 rows × 4 columns</p>\n",
       "</div>"
      ],
      "text/plain": [
       "         auhtor_ID                                               post   \n",
       "0        t2_10uons  It isn't, it's just for show. It isn't legally...  \\\n",
       "1        t2_10uons  games won to games played. Games played is cal...   \n",
       "2        t2_10uons  So with that logic USA is a very shitty place ...   \n",
       "3        t2_10uons  are referring to It does add up a lot when EA,...   \n",
       "4        t2_10uons  get another role than support Lel people here ...   \n",
       "...            ...                                                ...   \n",
       "82611  t2_57ogt82f  and Sergeant York. WWI didn't lend it'self to ...   \n",
       "82612  t2_57ogt82f  a position where a person can get short term f...   \n",
       "82613  t2_57ogt82f  you have to read the label. Some are just as h...   \n",
       "82614  t2_57ogt82f  as traitors. Some suggesting it was treason. T...   \n",
       "82615  t2_57ogt82f  for the drug trade staffed by benefit claimant...   \n",
       "\n",
       "          nationality  id  \n",
       "0             Finland  17  \n",
       "1             Finland  17  \n",
       "2             Finland  17  \n",
       "3             Finland  17  \n",
       "4             Finland  17  \n",
       "...               ...  ..  \n",
       "82611  United Kingdom  55  \n",
       "82612  United Kingdom  55  \n",
       "82613  United Kingdom  55  \n",
       "82614  United Kingdom  55  \n",
       "82615  United Kingdom  55  \n",
       "\n",
       "[82616 rows x 4 columns]"
      ]
     },
     "execution_count": 23,
     "metadata": {},
     "output_type": "execute_result"
    }
   ],
   "source": [
    "df_nationality['id'] = df_nationality.groupby(['nationality']).ngroup()\n",
    "df_nationality"
   ]
  },
  {
   "cell_type": "code",
   "execution_count": 24,
   "metadata": {},
   "outputs": [],
   "source": [
    "import json\n",
    "import csv\n",
    "import numpy as np\n",
    "from tqdm import tqdm\n",
    "import string\n",
    "import re\n",
    "import nltk\n",
    "from nltk.corpus import stopwords\n"
   ]
  },
  {
   "cell_type": "code",
   "execution_count": null,
   "metadata": {},
   "outputs": [
    {
     "name": "stderr",
     "output_type": "stream",
     "text": [
      "[nltk_data] Downloading package wordnet to\n",
      "[nltk_data]     C:\\Users\\20193244\\AppData\\Roaming\\nltk_data...\n"
     ]
    },
    {
     "data": {
      "text/plain": [
       "True"
      ]
     },
     "execution_count": 33,
     "metadata": {},
     "output_type": "execute_result"
    }
   ],
   "source": [
    "#only run following if you have not yet downloaded the stopwords\n",
    "#nltk.download('stopwords') \n",
    "#nltk.download('punkt')\n",
    "#nltk.download('wordnet')"
   ]
  },
  {
   "cell_type": "code",
   "execution_count": 26,
   "metadata": {},
   "outputs": [],
   "source": [
    "def preprocess(text):\n",
    "    text = text.lower()\n",
    "\n",
    "    text  = re.sub(r'\\d+', '', text)\n",
    "    text = re.sub(r'[^\\w\\s]',\"\", text)\n",
    "\n",
    "    tokens = nltk.word_tokenize(text)\n",
    "\n",
    "    return tokens"
   ]
  },
  {
   "cell_type": "code",
   "execution_count": 27,
   "metadata": {},
   "outputs": [],
   "source": [
    "def remove_stopwords (tokens):\n",
    "    stop_words = set(stopwords.words('english'))\n",
    "    filtered_tokens = [word for word in tokens if word not in stop_words]\n",
    "    return filtered_tokens"
   ]
  },
  {
   "cell_type": "code",
   "execution_count": 28,
   "metadata": {},
   "outputs": [],
   "source": [
    "def lemmatization(tokens):\n",
    "    lemmatizer = nltk.WordNetLemmatizer()\n",
    "    lemmatized = [lemmatizer.lemmatize(token) for token in tokens]\n",
    "    return lemmatized"
   ]
  },
  {
   "cell_type": "code",
   "execution_count": 29,
   "metadata": {},
   "outputs": [],
   "source": [
    "def clean_text(text):\n",
    "    tokens = preprocess(text)\n",
    "    filtered_tokens = remove_stopwords(tokens)\n",
    "    lemmatizer = lemmatization(filtered_tokens)\n",
    "    clean = \" \".join(lemmatizer)\n",
    "    return clean"
   ]
  },
  {
   "cell_type": "code",
   "execution_count": 35,
   "metadata": {},
   "outputs": [],
   "source": [
    "df_nationality['new'] = df_nationality['post'].apply(clean_text)"
   ]
  },
  {
   "cell_type": "code",
   "execution_count": 40,
   "metadata": {},
   "outputs": [],
   "source": [
    "csv_data = pd.read_csv('output.csv')\n",
    "word_set = set(csv_data['Word'].values)\n",
    "tqdm.pandas()"
   ]
  },
  {
   "cell_type": "code",
   "execution_count": 42,
   "metadata": {},
   "outputs": [],
   "source": [
    "df_nationality['cursewords'] = df_nationality['new'].apply(lambda x: sum([1 for word in x.split() if word in word_set]))"
   ]
  },
  {
   "cell_type": "code",
   "execution_count": 91,
   "metadata": {},
   "outputs": [],
   "source": [
    "df_nationality = df_nationality.rename(columns={'auhtor_ID': 'username'})\n",
    "df_nationality.drop('post', axis=1)\n",
    "df_nationality = df_nationality.rename(columns={'new': 'post'})"
   ]
  },
  {
   "cell_type": "code",
   "execution_count": 92,
   "metadata": {},
   "outputs": [],
   "source": [
    "df_nationality.to_csv(\"cleaned_data_nat.csv\")"
   ]
  },
  {
   "cell_type": "code",
   "execution_count": 98,
   "metadata": {},
   "outputs": [
    {
     "name": "stdout",
     "output_type": "stream",
     "text": [
      "nationality\n",
      "Germany                   12838\n",
      "United Kingdom             7861\n",
      "USA                        7646\n",
      "The Netherlands            6905\n",
      "Sweden                     3364\n",
      "Finland                    3262\n",
      "Poland                     3031\n",
      "France                     2869\n",
      "Italy                      2644\n",
      "Spain                      2441\n",
      "Ireland                    2328\n",
      "Belgium                    2284\n",
      "Romania                    2018\n",
      "Denmark                    1960\n",
      "Norway                     1801\n",
      "Czech Republic             1490\n",
      "Portugal                   1379\n",
      "Greece                     1247\n",
      "Austria                    1213\n",
      "Canada                     1203\n",
      "Slovenia                   1191\n",
      "Hungary                    1188\n",
      "Turkey                     1160\n",
      "Russia                     1134\n",
      "Croatia                    1063\n",
      "Switzerland                1028\n",
      "Ukraine                     843\n",
      "Bulgaria                    669\n",
      "Estonia                     647\n",
      "Lithuania                   588\n",
      "Serbia                      468\n",
      "Cyprus                      438\n",
      "Slovakia                    349\n",
      "Luxembourg                  324\n",
      "Iceland                     280\n",
      "Australia                   213\n",
      "Albania                     204\n",
      "Mexico                      168\n",
      "Kosovo                      166\n",
      "Bosnia and Herzegovina      119\n",
      "Georgia                      88\n",
      "Malta                        86\n",
      "Israel                       80\n",
      "Armenia                      70\n",
      "Greenland                    64\n",
      "Brazil                       49\n",
      "Azerbaijan                   34\n",
      "Argentina                    31\n",
      "North Macedonia              30\n",
      "Iran                         21\n",
      "Moldova                      13\n",
      "Philippines                   7\n",
      "Montenegro                    6\n",
      "Japan                         5\n",
      "Kazakhstan                    4\n",
      "Chili                         4\n",
      "Name: count, dtype: int64\n"
     ]
    }
   ],
   "source": [
    "s = pd.value_counts(df_nationality.nationality)\n",
    "print(s)"
   ]
  },
  {
   "cell_type": "code",
   "execution_count": 116,
   "metadata": {},
   "outputs": [
    {
     "data": {
      "text/plain": [
       "nationality\n",
       "Germany            12838\n",
       "United Kingdom      7861\n",
       "USA                 7646\n",
       "The Netherlands     6905\n",
       "Sweden              3364\n",
       "Finland             3262\n",
       "Poland              3031\n",
       "France              2869\n",
       "Italy               2644\n",
       "Spain               2441\n",
       "Ireland             2328\n",
       "Belgium             2284\n",
       "Romania             2018\n",
       "Denmark             1960\n",
       "Norway              1801\n",
       "Czech Republic      1490\n",
       "Portugal            1379\n",
       "Greece              1247\n",
       "Austria             1213\n",
       "Canada              1203\n",
       "Slovenia            1191\n",
       "Hungary             1188\n",
       "Turkey              1160\n",
       "Russia              1134\n",
       "Croatia             1063\n",
       "Switzerland         1028\n",
       "Ukraine              843\n",
       "Bulgaria             669\n",
       "Estonia              647\n",
       "Lithuania            588\n",
       "Name: count, dtype: int64"
      ]
     },
     "execution_count": 116,
     "metadata": {},
     "output_type": "execute_result"
    }
   ],
   "source": [
    "large_countries = s[s>500]\n",
    "large_countries\n"
   ]
  },
  {
   "cell_type": "code",
   "execution_count": 104,
   "metadata": {},
   "outputs": [
    {
     "data": {
      "text/plain": [
       "30"
      ]
     },
     "execution_count": 104,
     "metadata": {},
     "output_type": "execute_result"
    }
   ],
   "source": [
    "len(large_countries)"
   ]
  },
  {
   "cell_type": "code",
   "execution_count": 106,
   "metadata": {},
   "outputs": [
    {
     "data": {
      "image/png": "[encoded data removed]",
      "text/plain": [
       "<Figure size 640x480 with 1 Axes>"
      ]
     },
     "metadata": {},
     "output_type": "display_data"
    }
   ],
   "source": [
    "plt = s.plot(kind='bar', fontsize=7, xlabel = \"Nationality\", ylabel=\"Number of posts\")"
   ]
  },
  {
   "cell_type": "code",
   "execution_count": 107,
   "metadata": {},
   "outputs": [
    {
     "data": {
      "image/png": "[encoded data removed]",
      "text/plain": [
       "<Figure size 640x480 with 1 Axes>"
      ]
     },
     "metadata": {},
     "output_type": "display_data"
    }
   ],
   "source": [
    "plt1 = large_countries.plot(kind='bar', fontsize=10, xlabel = \"Nationality\", ylabel=\"Number of posts\")"
   ]
  },
  {
   "cell_type": "code",
   "execution_count": 108,
   "metadata": {},
   "outputs": [
    {
     "data": {
      "text/html": [
       "<div>\n",
       "<style scoped>\n",
       "    .dataframe tbody tr th:only-of-type {\n",
       "        vertical-align: middle;\n",
       "    }\n",
       "\n",
       "    .dataframe tbody tr th {\n",
       "        vertical-align: top;\n",
       "    }\n",
       "\n",
       "    .dataframe thead th {\n",
       "        text-align: right;\n",
       "    }\n",
       "</style>\n",
       "<table border=\"1\" class=\"dataframe\">\n",
       "  <thead>\n",
       "    <tr style=\"text-align: right;\">\n",
       "      <th></th>\n",
       "      <th>username</th>\n",
       "      <th>post</th>\n",
       "      <th>nationality</th>\n",
       "      <th>id</th>\n",
       "      <th>post</th>\n",
       "      <th>cursewords</th>\n",
       "    </tr>\n",
       "  </thead>\n",
       "  <tbody>\n",
       "    <tr>\n",
       "      <th>0</th>\n",
       "      <td>t2_10uons</td>\n",
       "      <td>It isn't, it's just for show. It isn't legally...</td>\n",
       "      <td>Finland</td>\n",
       "      <td>17</td>\n",
       "      <td>isnt show isnt legally binding depends also ra...</td>\n",
       "      <td>2</td>\n",
       "    </tr>\n",
       "    <tr>\n",
       "      <th>1</th>\n",
       "      <td>t2_10uons</td>\n",
       "      <td>games won to games played. Games played is cal...</td>\n",
       "      <td>Finland</td>\n",
       "      <td>17</td>\n",
       "      <td>game game played game played calculated compar...</td>\n",
       "      <td>6</td>\n",
       "    </tr>\n",
       "    <tr>\n",
       "      <th>2</th>\n",
       "      <td>t2_10uons</td>\n",
       "      <td>So with that logic USA is a very shitty place ...</td>\n",
       "      <td>Finland</td>\n",
       "      <td>17</td>\n",
       "      <td>logic usa shitty place live shooting per milli...</td>\n",
       "      <td>6</td>\n",
       "    </tr>\n",
       "    <tr>\n",
       "      <th>3</th>\n",
       "      <td>t2_10uons</td>\n",
       "      <td>are referring to It does add up a lot when EA,...</td>\n",
       "      <td>Finland</td>\n",
       "      <td>17</td>\n",
       "      <td>referring add lot ea activision etc rerelease ...</td>\n",
       "      <td>3</td>\n",
       "    </tr>\n",
       "    <tr>\n",
       "      <th>4</th>\n",
       "      <td>t2_10uons</td>\n",
       "      <td>get another role than support Lel people here ...</td>\n",
       "      <td>Finland</td>\n",
       "      <td>17</td>\n",
       "      <td>get another role support lel people thinking h...</td>\n",
       "      <td>7</td>\n",
       "    </tr>\n",
       "    <tr>\n",
       "      <th>...</th>\n",
       "      <td>...</td>\n",
       "      <td>...</td>\n",
       "      <td>...</td>\n",
       "      <td>...</td>\n",
       "      <td>...</td>\n",
       "      <td>...</td>\n",
       "    </tr>\n",
       "    <tr>\n",
       "      <th>82611</th>\n",
       "      <td>t2_57ogt82f</td>\n",
       "      <td>and Sergeant York. WWI didn't lend it'self to ...</td>\n",
       "      <td>United Kingdom</td>\n",
       "      <td>55</td>\n",
       "      <td>sergeant york wwi didnt lend film fought cold ...</td>\n",
       "      <td>0</td>\n",
       "    </tr>\n",
       "    <tr>\n",
       "      <th>82612</th>\n",
       "      <td>t2_57ogt82f</td>\n",
       "      <td>a position where a person can get short term f...</td>\n",
       "      <td>United Kingdom</td>\n",
       "      <td>55</td>\n",
       "      <td>position person get short term fame committing...</td>\n",
       "      <td>6</td>\n",
       "    </tr>\n",
       "    <tr>\n",
       "      <th>82613</th>\n",
       "      <td>t2_57ogt82f</td>\n",
       "      <td>you have to read the label. Some are just as h...</td>\n",
       "      <td>United Kingdom</td>\n",
       "      <td>55</td>\n",
       "      <td>read label high red meat yet others low qualit...</td>\n",
       "      <td>5</td>\n",
       "    </tr>\n",
       "    <tr>\n",
       "      <th>82614</th>\n",
       "      <td>t2_57ogt82f</td>\n",
       "      <td>as traitors. Some suggesting it was treason. T...</td>\n",
       "      <td>United Kingdom</td>\n",
       "      <td>55</td>\n",
       "      <td>traitor suggesting treason treason death penal...</td>\n",
       "      <td>2</td>\n",
       "    </tr>\n",
       "    <tr>\n",
       "      <th>82615</th>\n",
       "      <td>t2_57ogt82f</td>\n",
       "      <td>for the drug trade staffed by benefit claimant...</td>\n",
       "      <td>United Kingdom</td>\n",
       "      <td>55</td>\n",
       "      <td>drug trade staffed benefit claimant thats big ...</td>\n",
       "      <td>2</td>\n",
       "    </tr>\n",
       "  </tbody>\n",
       "</table>\n",
       "<p>82616 rows × 6 columns</p>\n",
       "</div>"
      ],
      "text/plain": [
       "          username                                               post   \n",
       "0        t2_10uons  It isn't, it's just for show. It isn't legally...  \\\n",
       "1        t2_10uons  games won to games played. Games played is cal...   \n",
       "2        t2_10uons  So with that logic USA is a very shitty place ...   \n",
       "3        t2_10uons  are referring to It does add up a lot when EA,...   \n",
       "4        t2_10uons  get another role than support Lel people here ...   \n",
       "...            ...                                                ...   \n",
       "82611  t2_57ogt82f  and Sergeant York. WWI didn't lend it'self to ...   \n",
       "82612  t2_57ogt82f  a position where a person can get short term f...   \n",
       "82613  t2_57ogt82f  you have to read the label. Some are just as h...   \n",
       "82614  t2_57ogt82f  as traitors. Some suggesting it was treason. T...   \n",
       "82615  t2_57ogt82f  for the drug trade staffed by benefit claimant...   \n",
       "\n",
       "          nationality  id                                               post   \n",
       "0             Finland  17  isnt show isnt legally binding depends also ra...  \\\n",
       "1             Finland  17  game game played game played calculated compar...   \n",
       "2             Finland  17  logic usa shitty place live shooting per milli...   \n",
       "3             Finland  17  referring add lot ea activision etc rerelease ...   \n",
       "4             Finland  17  get another role support lel people thinking h...   \n",
       "...               ...  ..                                                ...   \n",
       "82611  United Kingdom  55  sergeant york wwi didnt lend film fought cold ...   \n",
       "82612  United Kingdom  55  position person get short term fame committing...   \n",
       "82613  United Kingdom  55  read label high red meat yet others low qualit...   \n",
       "82614  United Kingdom  55  traitor suggesting treason treason death penal...   \n",
       "82615  United Kingdom  55  drug trade staffed benefit claimant thats big ...   \n",
       "\n",
       "       cursewords  \n",
       "0               2  \n",
       "1               6  \n",
       "2               6  \n",
       "3               3  \n",
       "4               7  \n",
       "...           ...  \n",
       "82611           0  \n",
       "82612           6  \n",
       "82613           5  \n",
       "82614           2  \n",
       "82615           2  \n",
       "\n",
       "[82616 rows x 6 columns]"
      ]
     },
     "execution_count": 108,
     "metadata": {},
     "output_type": "execute_result"
    }
   ],
   "source": [
    "df_nationality"
   ]
  },
  {
   "cell_type": "code",
   "execution_count": 115,
   "metadata": {},
   "outputs": [
    {
     "name": "stdout",
     "output_type": "stream",
     "text": [
      "                  id  cursewords\n",
      "id          1.000000    0.023984\n",
      "cursewords  0.023984    1.000000\n"
     ]
    }
   ],
   "source": [
    "correlation = df_nationality['id'].corr(df_nationality['cursewords'])\n",
    "df_new = df_nationality[['id', 'cursewords']].copy()\n",
    "correlation_matrix = df_new.corr()\n",
    "print(correlation_matrix)"
   ]
  },
  {
   "attachments": {},
   "cell_type": "markdown",
   "metadata": {},
   "source": [
    "Next step: <br>\n",
    "Remove small countries by excluding countries not in large_countries"
   ]
  },
  {
   "cell_type": "code",
   "execution_count": 117,
   "metadata": {},
   "outputs": [
    {
     "name": "stdout",
     "output_type": "stream",
     "text": [
      "Hello World\n"
     ]
    }
   ],
   "source": [
    "\n",
    "print(\"Hello World\")"
   ]
  }
 ],
 "metadata": {
  "kernelspec": {
   "display_name": "Python 3",
   "language": "python",
   "name": "python3"
  },
  "language_info": {
   "codemirror_mode": {
    "name": "ipython",
    "version": 3
   },
   "file_extension": ".py",
   "mimetype": "text/x-python",
   "name": "python",
   "nbconvert_exporter": "python",
   "pygments_lexer": "ipython3",
   "version": "3.10.2"
  },
  "orig_nbformat": 4
 },
 "nbformat": 4,
 "nbformat_minor": 2
}
